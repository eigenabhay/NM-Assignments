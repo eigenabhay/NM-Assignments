{
 "cells": [
  {
   "cell_type": "code",
   "execution_count": 10,
   "metadata": {},
   "outputs": [
    {
     "name": "stdout",
     "output_type": "stream",
     "text": [
      "0.000977\n",
      "1.1920929e-07\n",
      "2.220446049250313e-16\n",
      "2.220446049250313e-16\n",
      "2.220446049250313e-16\n"
     ]
    }
   ],
   "source": [
    "import numpy as np\n",
    "from functools import reduce\n",
    "\n",
    "print(np.finfo(np.float16).eps)\n",
    "print(np.finfo(np.float32).eps)\n",
    "print(np.finfo(np.float64).eps)\n",
    "#print(np.finfo(np.float128).eps)\n",
    "print(np.finfo(np.longdouble).eps)\n",
    "\n",
    "print(np.finfo(float).eps)"
   ]
  },
  {
   "cell_type": "code",
   "execution_count": 17,
   "metadata": {},
   "outputs": [
    {
     "name": "stdout",
     "output_type": "stream",
     "text": [
      "[0, 1, 1, 2, 3, 5, 8, 13, 21, 34, 55, 89, 144, 233, 377, 610, 987, 1597, 2584, 4181]\n"
     ]
    }
   ],
   "source": [
    "def print_fibonacci(n):\n",
    "    fib_list = [0, 1]\n",
    "\n",
    "    for i in range(2, n):\n",
    "        fib_list.append(fib_list[i - 1] + fib_list[i - 2])\n",
    "\n",
    "    return fib_list[:n]\n",
    "\n",
    "# Example: Print the first 10 Fibonacci numbers\n",
    "n = 20\n",
    "result = print_fibonacci(n)\n",
    "print(result)"
   ]
  },
  {
   "cell_type": "code",
   "execution_count": null,
   "metadata": {},
   "outputs": [],
   "source": []
  }
 ],
 "metadata": {
  "kernelspec": {
   "display_name": "Python 3",
   "language": "python",
   "name": "python3"
  },
  "language_info": {
   "codemirror_mode": {
    "name": "ipython",
    "version": 3
   },
   "file_extension": ".py",
   "mimetype": "text/x-python",
   "name": "python",
   "nbconvert_exporter": "python",
   "pygments_lexer": "ipython3",
   "version": "3.8.3"
  }
 },
 "nbformat": 4,
 "nbformat_minor": 4
}
