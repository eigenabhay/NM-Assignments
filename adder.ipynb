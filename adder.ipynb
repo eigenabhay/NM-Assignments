{
 "cells": [
  {
   "cell_type": "code",
   "execution_count": 16,
   "metadata": {},
   "outputs": [
    {
     "name": "stdout",
     "output_type": "stream",
     "text": [
      "Result (string): Hello, world!\n",
      "Result (list): [1, 2, 3, 4, 5, 6]\n",
      "Result (float): 5.85\n"
     ]
    }
   ],
   "source": [
    "# math_operations.py\n",
    "\n",
    "def adder(a, b):\n",
    "    return a + b\n",
    "\n",
    "# Call the function to add two strings, two lists, and two floating points\n",
    "result_string = adder(\"Hello, \", \"world!\")\n",
    "result_list = adder([1, 2, 3], [4, 5, 6])\n",
    "result_float = adder(3.14, 2.71)\n",
    "\n",
    "# Print the results\n",
    "print(\"Result (string):\", result_string)\n",
    "print(\"Result (list):\", result_list)\n",
    "print(\"Result (float):\", result_float)\n",
    "\n",
    "#a print statement is needed to see the reults"
   ]
  },
  {
   "cell_type": "code",
   "execution_count": 17,
   "metadata": {},
   "outputs": [
    {
     "name": "stdout",
     "output_type": "stream",
     "text": [
      "Result (sum): 15\n"
     ]
    }
   ],
   "source": [
    "# math_operations.py\n",
    "\n",
    "def adder(*args):\n",
    "    return sum(args)\n",
    "\n",
    "# Call the function with different arguments\n",
    "result_sum = adder(1, 2, 3, 4, 5)\n",
    "\n",
    "# Print the result\n",
    "print(\"Result (sum):\", result_sum)\n"
   ]
  },
  {
   "cell_type": "code",
   "execution_count": 18,
   "metadata": {},
   "outputs": [
    {
     "name": "stdout",
     "output_type": "stream",
     "text": [
      "Result with keywords: 10\n"
     ]
    }
   ],
   "source": [
    "# math_operations.py\n",
    "\n",
    "def adder(*args, good=1, bad=2, ugly=3):\n",
    "    return sum(args) + good - bad + ugly\n",
    "\n",
    "# Call the function with keyword arguments\n",
    "result_with_keywords = adder(1, 2, 3, good=5, ugly=1)\n",
    "\n",
    "# Print the result\n",
    "print(\"Result with keywords:\", result_with_keywords)\n"
   ]
  },
  {
   "cell_type": "code",
   "execution_count": 19,
   "metadata": {},
   "outputs": [
    {
     "name": "stdout",
     "output_type": "stream",
     "text": [
      "Result with arbitrary arguments: 14\n"
     ]
    }
   ],
   "source": [
    "# math_operations.py\n",
    "\n",
    "def adder(*args, **kwargs):\n",
    "    return sum(args) + sum(kwargs.values())\n",
    "\n",
    "# Call the function with arbitrary arguments\n",
    "result_arbitrary = adder(1, 2, 3, good=5, bad=2, ugly=1)\n",
    "\n",
    "# Print the result\n",
    "print(\"Result with arbitrary arguments:\", result_arbitrary)\n"
   ]
  },
  {
   "cell_type": "code",
   "execution_count": null,
   "metadata": {},
   "outputs": [],
   "source": []
  },
  {
   "cell_type": "code",
   "execution_count": null,
   "metadata": {},
   "outputs": [],
   "source": []
  },
  {
   "cell_type": "code",
   "execution_count": null,
   "metadata": {},
   "outputs": [],
   "source": []
  }
 ],
 "metadata": {
  "kernelspec": {
   "display_name": "Python 3",
   "language": "python",
   "name": "python3"
  },
  "language_info": {
   "codemirror_mode": {
    "name": "ipython",
    "version": 3
   },
   "file_extension": ".py",
   "mimetype": "text/x-python",
   "name": "python",
   "nbconvert_exporter": "python",
   "pygments_lexer": "ipython3",
   "version": "3.8.3"
  }
 },
 "nbformat": 4,
 "nbformat_minor": 4
}
